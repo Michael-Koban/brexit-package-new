{
 "cells": [
  {
   "cell_type": "markdown",
   "metadata": {},
   "source": [
    "In this step we are filtering the tweets of the Key Opinion Leaders, that we retrived in the first step. \n"
   ]
  },
  {
   "cell_type": "code",
   "execution_count": 1,
   "metadata": {},
   "outputs": [],
   "source": [
    "from twitter_crawler import TwitterCrawler\n",
    "\n",
    "my_token = 'AAAAAAAAAAAAAAAAAAAAADRFOwEAAAAAaTp%2Bdd1OhobYMYb5ExPXm7IL6RA%3DDHknH402gOXoegUGxNtpC6giIjdackRLtdRx6tjrnnLeFN1ntT'\n",
    "my_twitter_crawler = TwitterCrawler(bearer_token= my_token)\n"
   ]
  },
  {
   "cell_type": "code",
   "execution_count": 2,
   "metadata": {},
   "outputs": [
    {
     "name": "stdout",
     "output_type": "stream",
     "text": [
      "Step 1: Reading all the csv files\n",
      "Step 2: Reading The Events Excel File\n",
      "Step 3: Reading and preprocessing Key Opinion Leaders data\n",
      "Step 4: Reading stop words data and adding your stop words\n",
      "\n",
      "Step 5: Preprocess the tweets table for scoring:\n",
      "Removing Stop words        | bigram, trigram, forthgram | merging the tweets table with the KOP and Events tables | \n",
      "found 111331 bigrams\n",
      "found 106829 trigram\n",
      "found 88204 forthgram\n",
      "\n",
      "Finish preprocessing the tweets table, it took: 146.029 seconds\n",
      "Step 6: Scoring the Tweets\n",
      "\n",
      "Finish!\n",
      "Total time: 187.687 Seconds ( 3.128 Minutes)\n"
     ]
    }
   ],
   "source": [
    "### inputs for the filter function\n",
    "import os \n",
    "dir_with_all_tweets = os.path.join(\"KOL tweets\")\n",
    "\n",
    "score_for_KOP = 5\n",
    "score_for_key_event = 5\n",
    "score_for_key_words = 5\n",
    "\n",
    "key_words = [\"brexit\", \"eu\", \"deal\", \"economy\"]\n",
    "threshold_score = 10\n",
    "\n",
    "KOP_excel_name = \"KOP brexit.xlsx\"\n",
    "key_events_excel_name = \"Brexit_key_events.xlsx\"\n",
    "stop_words_to_add = [\"https\"]\n",
    "#########################################################\n",
    "tweets_table_filtered, tweets_table, csv_files_evaluated = my_twitter_crawler.filter_tweets_Brexit(\n",
    "    dir_with_all_tweets = dir_with_all_tweets,\n",
    "    score_for_KOP = score_for_KOP,\n",
    "    score_for_key_event = score_for_key_event,\n",
    "    score_for_key_words = score_for_key_words,\n",
    "    key_words = key_words,\n",
    "    threshold_score = threshold_score,\n",
    "    KOP_excel_name = KOP_excel_name,\n",
    "    key_events_excel_name = key_events_excel_name,\n",
    "    stop_words_to_add = stop_words_to_add,\n",
    "    stop_words_file_name = \"stopwords.txt\",\n",
    "    verbose = True)"
   ]
  },
  {
   "cell_type": "code",
   "execution_count": 3,
   "metadata": {},
   "outputs": [
    {
     "name": "stdout",
     "output_type": "stream",
     "text": [
      "Total number of tweets of the KOL=191682\n",
      "Total number of filtered tweets of the KOL=176757\n",
      "Total number of remained tweets of the KOL=14925\n"
     ]
    }
   ],
   "source": [
    "print(f\"Total number of tweets of the KOL={tweets_table.shape[0]}\")\n",
    "print(f\"Total number of filtered tweets of the KOL={ tweets_table.shape[0] - tweets_table_filtered.shape[0]}\")\n",
    "print(f\"Total number of remained tweets of the KOL={tweets_table_filtered.shape[0]}\")"
   ]
  },
  {
   "cell_type": "code",
   "execution_count": 5,
   "metadata": {},
   "outputs": [],
   "source": [
    "tweets_table_filtered.to_excel('tweets_table_filtered.xlsx')"
   ]
  },
  {
   "cell_type": "code",
   "execution_count": null,
   "metadata": {},
   "outputs": [],
   "source": []
  }
 ],
 "metadata": {
  "interpreter": {
   "hash": "97ae724bfa85b9b34df7982b8bb8c7216f435b92902d749e4263f71162bea840"
  },
  "kernelspec": {
   "display_name": "Python 3.9.7 ('base')",
   "language": "python",
   "name": "python3"
  },
  "language_info": {
   "codemirror_mode": {
    "name": "ipython",
    "version": 3
   },
   "file_extension": ".py",
   "mimetype": "text/x-python",
   "name": "python",
   "nbconvert_exporter": "python",
   "pygments_lexer": "ipython3",
   "version": "3.9.7"
  },
  "orig_nbformat": 4
 },
 "nbformat": 4,
 "nbformat_minor": 2
}
