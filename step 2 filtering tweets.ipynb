{
 "cells": [
  {
   "cell_type": "markdown",
   "metadata": {},
   "source": [
    "In this step we are filtering the tweets of the Key Opinion Leaders, that we retrived in the first step. \n"
   ]
  },
  {
   "cell_type": "code",
   "execution_count": 1,
   "metadata": {},
   "outputs": [],
   "source": [
    "from twitter_crawler import TwitterCrawler\n",
    "\n",
    "my_token = 'AAAAAAAAAAAAAAAAAAAAADRFOwEAAAAAaTp%2Bdd1OhobYMYb5ExPXm7IL6RA%3DDHknH402gOXoegUGxNtpC6giIjdackRLtdRx6tjrnnLeFN1ntT'\n",
    "my_twitter_crawler = TwitterCrawler(bearer_token= my_token)\n"
   ]
  },
  {
   "cell_type": "code",
   "execution_count": 1,
   "metadata": {},
   "outputs": [
    {
     "ename": "NameError",
     "evalue": "name 'my_twitter_crawler' is not defined",
     "output_type": "error",
     "traceback": [
      "\u001b[1;31m---------------------------------------------------------------------------\u001b[0m",
      "\u001b[1;31mNameError\u001b[0m                                 Traceback (most recent call last)",
      "\u001b[1;32mc:\\Users\\Roy\\Documents\\A IDC Roy BDA\\Third Year - BDA\\Semester 2\\סטאז'\\code new\\brexit-package-new\\step 2 filtering tweets.ipynb Cell 3'\u001b[0m in \u001b[0;36m<cell line: 16>\u001b[1;34m()\u001b[0m\n\u001b[0;32m     <a href='vscode-notebook-cell:/c%3A/Users/Roy/Documents/A%20IDC%20Roy%20BDA/Third%20Year%20-%20BDA/Semester%202/%D7%A1%D7%98%D7%90%D7%96%27/code%20new/brexit-package-new/step%202%20filtering%20tweets.ipynb#ch0000002?line=13'>14</a>\u001b[0m stop_words_to_add \u001b[39m=\u001b[39m [\u001b[39m\"\u001b[39m\u001b[39mhttps\u001b[39m\u001b[39m\"\u001b[39m]\n\u001b[0;32m     <a href='vscode-notebook-cell:/c%3A/Users/Roy/Documents/A%20IDC%20Roy%20BDA/Third%20Year%20-%20BDA/Semester%202/%D7%A1%D7%98%D7%90%D7%96%27/code%20new/brexit-package-new/step%202%20filtering%20tweets.ipynb#ch0000002?line=14'>15</a>\u001b[0m \u001b[39m#########################################################\u001b[39;00m\n\u001b[1;32m---> <a href='vscode-notebook-cell:/c%3A/Users/Roy/Documents/A%20IDC%20Roy%20BDA/Third%20Year%20-%20BDA/Semester%202/%D7%A1%D7%98%D7%90%D7%96%27/code%20new/brexit-package-new/step%202%20filtering%20tweets.ipynb#ch0000002?line=15'>16</a>\u001b[0m tweets_table_filtered, tweets_table, csv_files_evaluated \u001b[39m=\u001b[39m my_twitter_crawler\u001b[39m.\u001b[39mfilter_tweets_Brexit(\n\u001b[0;32m     <a href='vscode-notebook-cell:/c%3A/Users/Roy/Documents/A%20IDC%20Roy%20BDA/Third%20Year%20-%20BDA/Semester%202/%D7%A1%D7%98%D7%90%D7%96%27/code%20new/brexit-package-new/step%202%20filtering%20tweets.ipynb#ch0000002?line=16'>17</a>\u001b[0m     dir_with_all_tweets \u001b[39m=\u001b[39m dir_with_all_tweets,\n\u001b[0;32m     <a href='vscode-notebook-cell:/c%3A/Users/Roy/Documents/A%20IDC%20Roy%20BDA/Third%20Year%20-%20BDA/Semester%202/%D7%A1%D7%98%D7%90%D7%96%27/code%20new/brexit-package-new/step%202%20filtering%20tweets.ipynb#ch0000002?line=17'>18</a>\u001b[0m     score_for_KOP \u001b[39m=\u001b[39m score_for_KOP,\n\u001b[0;32m     <a href='vscode-notebook-cell:/c%3A/Users/Roy/Documents/A%20IDC%20Roy%20BDA/Third%20Year%20-%20BDA/Semester%202/%D7%A1%D7%98%D7%90%D7%96%27/code%20new/brexit-package-new/step%202%20filtering%20tweets.ipynb#ch0000002?line=18'>19</a>\u001b[0m     score_for_key_event \u001b[39m=\u001b[39m score_for_key_event,\n\u001b[0;32m     <a href='vscode-notebook-cell:/c%3A/Users/Roy/Documents/A%20IDC%20Roy%20BDA/Third%20Year%20-%20BDA/Semester%202/%D7%A1%D7%98%D7%90%D7%96%27/code%20new/brexit-package-new/step%202%20filtering%20tweets.ipynb#ch0000002?line=19'>20</a>\u001b[0m     score_for_key_words \u001b[39m=\u001b[39m score_for_key_words,\n\u001b[0;32m     <a href='vscode-notebook-cell:/c%3A/Users/Roy/Documents/A%20IDC%20Roy%20BDA/Third%20Year%20-%20BDA/Semester%202/%D7%A1%D7%98%D7%90%D7%96%27/code%20new/brexit-package-new/step%202%20filtering%20tweets.ipynb#ch0000002?line=20'>21</a>\u001b[0m     key_words \u001b[39m=\u001b[39m key_words,\n\u001b[0;32m     <a href='vscode-notebook-cell:/c%3A/Users/Roy/Documents/A%20IDC%20Roy%20BDA/Third%20Year%20-%20BDA/Semester%202/%D7%A1%D7%98%D7%90%D7%96%27/code%20new/brexit-package-new/step%202%20filtering%20tweets.ipynb#ch0000002?line=21'>22</a>\u001b[0m     threshold_score \u001b[39m=\u001b[39m threshold_score,\n\u001b[0;32m     <a href='vscode-notebook-cell:/c%3A/Users/Roy/Documents/A%20IDC%20Roy%20BDA/Third%20Year%20-%20BDA/Semester%202/%D7%A1%D7%98%D7%90%D7%96%27/code%20new/brexit-package-new/step%202%20filtering%20tweets.ipynb#ch0000002?line=22'>23</a>\u001b[0m     KOP_excel_name \u001b[39m=\u001b[39m KOP_excel_name,\n\u001b[0;32m     <a href='vscode-notebook-cell:/c%3A/Users/Roy/Documents/A%20IDC%20Roy%20BDA/Third%20Year%20-%20BDA/Semester%202/%D7%A1%D7%98%D7%90%D7%96%27/code%20new/brexit-package-new/step%202%20filtering%20tweets.ipynb#ch0000002?line=23'>24</a>\u001b[0m     key_events_excel_name \u001b[39m=\u001b[39m key_events_excel_name,\n\u001b[0;32m     <a href='vscode-notebook-cell:/c%3A/Users/Roy/Documents/A%20IDC%20Roy%20BDA/Third%20Year%20-%20BDA/Semester%202/%D7%A1%D7%98%D7%90%D7%96%27/code%20new/brexit-package-new/step%202%20filtering%20tweets.ipynb#ch0000002?line=24'>25</a>\u001b[0m     stop_words_to_add \u001b[39m=\u001b[39m stop_words_to_add,\n\u001b[0;32m     <a href='vscode-notebook-cell:/c%3A/Users/Roy/Documents/A%20IDC%20Roy%20BDA/Third%20Year%20-%20BDA/Semester%202/%D7%A1%D7%98%D7%90%D7%96%27/code%20new/brexit-package-new/step%202%20filtering%20tweets.ipynb#ch0000002?line=25'>26</a>\u001b[0m     stop_words_file_name \u001b[39m=\u001b[39m \u001b[39m\"\u001b[39m\u001b[39mstopwords.txt\u001b[39m\u001b[39m\"\u001b[39m,\n\u001b[0;32m     <a href='vscode-notebook-cell:/c%3A/Users/Roy/Documents/A%20IDC%20Roy%20BDA/Third%20Year%20-%20BDA/Semester%202/%D7%A1%D7%98%D7%90%D7%96%27/code%20new/brexit-package-new/step%202%20filtering%20tweets.ipynb#ch0000002?line=26'>27</a>\u001b[0m     verbose \u001b[39m=\u001b[39m \u001b[39mTrue\u001b[39;00m)\n",
      "\u001b[1;31mNameError\u001b[0m: name 'my_twitter_crawler' is not defined"
     ]
    }
   ],
   "source": [
    "### inputs for the filter function\n",
    "import os \n",
    "dir_with_all_tweets = os.path.join(\"KOL tweets\")\n",
    "\n",
    "score_for_KOP = 5\n",
    "score_for_key_event = 5\n",
    "score_for_key_words = 5\n",
    "\n",
    "key_words = [\"brexit\", \"eu\", \"deal\", \"economy\"]\n",
    "threshold_score = 10\n",
    "\n",
    "KOP_excel_name = \"KOP brexit.xlsx\"\n",
    "key_events_excel_name = \"Brexit_key_events.xlsx\"\n",
    "stop_words_to_add = [\"https\"]\n",
    "#########################################################\n",
    "tweets_table_filtered, tweets_table, csv_files_evaluated, bigrams_models = my_twitter_crawler.filter_tweets_Brexit(\n",
    "    dir_with_all_tweets = dir_with_all_tweets,\n",
    "    score_for_KOP = score_for_KOP,\n",
    "    score_for_key_event = score_for_key_event,\n",
    "    score_for_key_words = score_for_key_words,\n",
    "    key_words = key_words,\n",
    "    threshold_score = threshold_score,\n",
    "    KOP_excel_name = KOP_excel_name,\n",
    "    key_events_excel_name = key_events_excel_name,\n",
    "    stop_words_to_add = stop_words_to_add,\n",
    "    stop_words_file_name = \"stopwords.txt\",\n",
    "    verbose = True)"
   ]
  },
  {
   "cell_type": "code",
   "execution_count": 3,
   "metadata": {},
   "outputs": [
    {
     "name": "stdout",
     "output_type": "stream",
     "text": [
      "Total number of tweets of the KOL=191682\n",
      "Total number of filtered tweets of the KOL=176757\n",
      "Total number of remained tweets of the KOL=14925\n"
     ]
    }
   ],
   "source": [
    "print(f\"Total number of tweets of the KOL={tweets_table.shape[0]}\")\n",
    "print(f\"Total number of filtered tweets of the KOL={ tweets_table.shape[0] - tweets_table_filtered.shape[0]}\")\n",
    "print(f\"Total number of remained tweets of the KOL={tweets_table_filtered.shape[0]}\")"
   ]
  },
  {
   "cell_type": "code",
   "execution_count": 5,
   "metadata": {},
   "outputs": [],
   "source": [
    "tweets_table_filtered.to_excel('tweets_table_filtered.xlsx')"
   ]
  },
  {
   "cell_type": "code",
   "execution_count": null,
   "metadata": {},
   "outputs": [],
   "source": []
  }
 ],
 "metadata": {
  "interpreter": {
   "hash": "0b5756731d1f97cca4458421af1821b7cd867f6ae761a3e16b04401b3112beb9"
  },
  "kernelspec": {
   "display_name": "Python 3.9.7 ('brexit-env': venv)",
   "language": "python",
   "name": "python3"
  },
  "language_info": {
   "codemirror_mode": {
    "name": "ipython",
    "version": 3
   },
   "file_extension": ".py",
   "mimetype": "text/x-python",
   "name": "python",
   "nbconvert_exporter": "python",
   "pygments_lexer": "ipython3",
   "version": "3.9.7"
  },
  "orig_nbformat": 4
 },
 "nbformat": 4,
 "nbformat_minor": 2
}
